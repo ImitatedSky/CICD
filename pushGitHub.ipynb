{
  "nbformat": 4,
  "nbformat_minor": 0,
  "metadata": {
    "colab": {
      "provenance": [],
      "authorship_tag": "ABX9TyNODqYOBP6SstGZwG2pokOK",
      "include_colab_link": true
    },
    "kernelspec": {
      "name": "python3",
      "display_name": "Python 3"
    },
    "language_info": {
      "name": "python"
    }
  },
  "cells": [
    {
      "cell_type": "markdown",
      "metadata": {
        "id": "view-in-github",
        "colab_type": "text"
      },
      "source": [
        "<a href=\"https://colab.research.google.com/github/ImitatedSky/CICD/blob/main/pushGitHub.ipynb\" target=\"_parent\"><img src=\"https://colab.research.google.com/assets/colab-badge.svg\" alt=\"Open In Colab\"/></a>"
      ]
    },
    {
      "cell_type": "code",
      "execution_count": null,
      "metadata": {
        "id": "iq8NuLKlG3nM"
      },
      "outputs": [],
      "source": [
        "# auto push github script\n",
        "\n",
        "import os\n",
        "import sys\n",
        "\n",
        "def GetTime():\n",
        "    import time\n",
        "    return time.strftime(\"%Y-%m-%d %H:%M:%S\", time.localtime())\n",
        "\n",
        "commit_msg =f\"update: {GetTime()}\"\n",
        "\n",
        "# 清空origin\n",
        "os.system(\"git remote rm origin\")\n",
        "\n",
        "# 輸入github網址\n",
        "github_url = input(\">>> Please input github url : \")\n",
        "github_branch = input(\">>> Please input github branch : \")\n",
        "github_commit_msg = input(\">>> Please input commit msg : \")\n",
        "\n",
        "# 如果沒有輸入 commit msg 就用預設的\n",
        "if github_commit_msg != \"\":\n",
        "    commit_msg = github_commit_msg\n",
        "\n",
        "set_o  = \"git remote add origin \" + github_url\n",
        "\n",
        "\n",
        "comd_0  = \"git init\"\n",
        "comd_1  = \"git add .\"\n",
        "comd_2  = \"git commit -m \\\" \" + commit_msg + \" \\\"\"\n",
        "comd_3  = \"git push origin \" + github_branch\n",
        "comd_4  = \"git status\"\n",
        "\n",
        "\n",
        "print(\">>> \" + set_o)\n",
        "os.system(set_o)\n",
        "print(\">>> \" + comd_0)\n",
        "os.system(comd_0)\n",
        "print(\">>> \" + comd_1)\n",
        "os.system(comd_1)\n",
        "print(\">>> \" + comd_2)\n",
        "os.system(comd_2)\n",
        "print(\">>> \" + comd_3)\n",
        "os.system(comd_3)\n",
        "print(\">>> \" + comd_4)\n",
        "os.system(comd_4)\n",
        "\n",
        "print(\">>> Done!\")\n",
        "\n",
        "# 點擊後自動關閉\n",
        "os.system(\"pause\")\n"
      ]
    }
  ]
}